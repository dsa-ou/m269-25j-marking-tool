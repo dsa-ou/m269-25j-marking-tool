{
 "cells": [
  {
   "cell_type": "markdown",
   "metadata": {
    "CELLTYPE": "INFO",
    "editable": true,
    "slideshow": {
     "slide_type": ""
    },
    "tags": []
   },
   "source": [
    "### Edit this cell to enter your name and PI. Then run the JavaScript cell below to identify answer and feedback cells.\n",
    "\n",
    "**Name:** \\\n",
    "**PI:** "
   ]
  },
  {
   "cell_type": "markdown",
   "metadata": {
    "CELLTYPE": "INFO",
    "editable": true,
    "slideshow": {
     "slide_type": ""
    },
    "tags": []
   },
   "source": [
    "**Release**: 2025-05-02"
   ]
  },
  {
   "cell_type": "markdown",
   "metadata": {
    "CELLTYPE": "INFO",
    "editable": true,
    "slideshow": {
     "slide_type": ""
    },
    "tags": []
   },
   "source": [
    "# TMA 02\n",
    "M269 requires all assignments to be submitted electronically, by following the\n",
    "link(s) from your StudentHome page to the online TMA/EMA service.\n",
    "\n",
    "If you foresee any difficulty with submitting your assignment on time then you\n",
    "should contact your tutor well in advance of the cut-off date.\n",
    "\n",
    "For further information about policy, procedure and general submission of\n",
    "assignments please refer to the \n",
    "[TMA and iCMA Policy](https://help.open.ac.uk/documents/policies/assessment-handbook),\n",
    "which can also be accessed via your StudentHome page.\n",
    "\n",
    "The learning outcomes assessed by each question are outlined at the head of\n",
    "the question.\n",
    "\n",
    "Your answers will be graded as fail, pass, merit or distinction,\n",
    "according to the criteria stated in each part-question.\n",
    "Each answer will get the *lowest* grade for which it satisfies *all* criteria.\n",
    "If an answer does not __fully__ satisfy _all_ criteria for at least a pass,\n",
    "then it is graded as a fail.\n",
    "For example, if an answer satisfies all merit and distinction criteria and all\n",
    "but one pass criterion, it is awarded a fail.\n",
    "Questions with few marks may only have pass/fail grades.\n",
    "\n",
    "In answering this TMA, remember that you can only use the Python data types/structures,  constructs, methods, functions or operations listed in the chapter summaries, unless specified otherwise within this TMA. While other constructs may have been exceptionally allowed in other TMAs, they are **not** allowed in TMA02. Use of disallowed code may result in a reduction of marks for that section, possibly reducing the section down to 0 marks.\n",
    "\n",
    "The local installation of Jupyter Notebooks, as well as the online version provided by The Open University includes tools to check your code only contains allowed contstructs and follows the required formatting. You should ensure you make use of these tools.\n",
    "\n",
    "Your TMA should be opened and edited in Jupyter notebooks. Ensure you **put your\n",
    "name and PI at the top** of this document. Remember to **run all cells when you start\n",
    "a new session** to work on this TMA. This will highlight the answer cells in yellow and\n",
    "will check your code for Python elements not taught in the book.\n",
    "(See Chapter 5 for details.)\n",
    "\n",
    "If you use an alternative piece of software to\n",
    "edit and run your TMA your tutor and the module team may not be able to support you.\n",
    "\n",
    "All of TMA 02 is in this document. There are six questions worth a total of 100 marks."
   ]
  },
  {
   "cell_type": "code",
   "execution_count": null,
   "metadata": {
    "CELLTYPE": "TMACODE",
    "editable": true,
    "scrolled": true,
    "slideshow": {
     "slide_type": ""
    },
    "tags": []
   },
   "outputs": [],
   "source": [
    "from algoesup import test\n",
    "%load_ext algoesup.magics\n",
    "%ruff on"
   ]
  },
  {
   "cell_type": "markdown",
   "metadata": {
    "CELLTYPE": "QUESTION",
    "editable": true,
    "slideshow": {
     "slide_type": ""
    },
    "tags": []
   },
   "source": [
    "## PART 1 (40 marks)"
   ]
  },
  {
   "cell_type": "markdown",
   "metadata": {
    "CELLTYPE": "QUESTION",
    "editable": true,
    "slideshow": {
     "slide_type": ""
    },
    "tags": []
   },
   "source": [
    "### Question 1 (6 marks)\n",
    "\n",
    "You should read this question __now__ but will need to add your answers in as you go through this TMA.\n",
    "\n",
    "Each testable piece of code has a quiz in the module VLE. You can test your code and will get guided feedback on the quality of the code and whether it passes the tests provided within this TMA, as well as whether it will pass the tests your tutor will use to assess your code.\n",
    "\n",
    "When you get to a piece of testable code, you should run it in the quiz and include a screenshot of the output as evidence within _this_ question.\n",
    "\n",
    "__To include a screenshot:__\n",
    "1. Use the screenshot functionality of your computer to save the screenshot as a JPEG or PNG file. \n",
    "2. Copy the image file to the same location as your TMA document and make a note of the filename. If necessary, rename the file so that it doesn't include spaces. You may want to resize the image in an image editing program. \n",
    "3. In the relevant cell below, enter the following markdown: `![image](filename.ext)` where filename.ext refers to the filename and extension of your screenshot.\n",
    "4. Make sure that it displays correctly and to include the image when you submit your TMA. Missing images will receive 0 marks!\n",
    "\n",
    "Your screenshot should include your code and the results of the test. You will **not** lose marks if the tests fail, but we **strongly** suggest you fix the problems."
   ]
  },
  {
   "cell_type": "markdown",
   "metadata": {
    "CELLTYPE": "QUESTION",
    "editable": true,
    "slideshow": {
     "slide_type": ""
    },
    "tags": []
   },
   "source": [
    "#### Q1(a) (2 marks)\n",
    "Insert a screenshot of the results from testing your code for Q2(a) in the quiz in the [assessment section of the M269 website](). Your screenshot should show your code and the results of the tests. You will not lose marks for your tests failing as long as you have fully engaged with the activity.\n",
    "\n",
    "- __PASS__ Screenshot is provided with code and results shown."
   ]
  },
  {
   "cell_type": "markdown",
   "metadata": {
    "CELLTYPE": "ANSWER",
    "QUESTION": "Q1a",
    "editable": true,
    "slideshow": {
     "slide_type": ""
    },
    "tags": []
   },
   "source": [
    "_Write your answer here_"
   ]
  },
  {
   "cell_type": "markdown",
   "metadata": {
    "CELLTYPE": "QUESTION",
    "editable": true,
    "slideshow": {
     "slide_type": ""
    },
    "tags": []
   },
   "source": [
    "#### Q1(b) (2 marks)\n",
    "Insert a screenshot of the results from testing your code for Q4(b)(ii) in the quiz in the [assessment section of the M269 website](). Your screenshot should show your code and the results of the tests. You will not lose marks for your tests failing as long as you have fully engaged with the activity.\n",
    "\n",
    "- __PASS__ Screenshot is provided with code and results shown."
   ]
  },
  {
   "cell_type": "markdown",
   "metadata": {
    "CELLTYPE": "ANSWER",
    "QUESTION": "Q1b",
    "editable": true,
    "slideshow": {
     "slide_type": ""
    },
    "tags": []
   },
   "source": [
    "_Write your answer here_"
   ]
  },
  {
   "cell_type": "markdown",
   "metadata": {
    "CELLTYPE": "QUESTION",
    "editable": true,
    "slideshow": {
     "slide_type": ""
    },
    "tags": []
   },
   "source": [
    "#### Q1(c) (2 marks)\n",
    "Insert a screenshot of the results from testing your code for Q6(a) in the quiz in the [assessment section of the M269 website](). Your screenshot should show your code and the results of the tests. You will not lose marks for your tests failing as long as you have fully engaged with the activity.\n",
    "\n",
    "- __PASS__ Screenshot is provided with code and results shown."
   ]
  },
  {
   "cell_type": "markdown",
   "metadata": {
    "CELLTYPE": "ANSWER",
    "QUESTION": "Q1c",
    "editable": true,
    "slideshow": {
     "slide_type": ""
    },
    "tags": []
   },
   "source": [
    "_Write your answer here_"
   ]
  },
  {
   "cell_type": "markdown",
   "metadata": {
    "CELLTYPE": "QUESTION",
    "editable": true,
    "slideshow": {
     "slide_type": ""
    },
    "tags": []
   },
   "source": [
    "### Question 2 (21 marks)\n",
    "\n",
    "You should be able to answer this question after you have studied up to Chapter 13. \n",
    "\n",
    "This question assesses the learning outcomes:\n",
    "\n",
    "- Understand the common general-purpose data structures, algorithmic techniques and complexity classes.\n",
    "- Develop and apply algorithms and data structures to solve computational problems.\n",
    "- Analyse the complexity of algorithms to support software design choices.\n",
    "- Write readable, tested, documented and efficient Python code."
   ]
  },
  {
   "attachments": {},
   "cell_type": "markdown",
   "metadata": {
    "CELLTYPE": "QUESTION",
    "editable": true,
    "slideshow": {
     "slide_type": ""
    },
    "tags": []
   },
   "source": [
    "#### Q2(a) (9 marks)\n",
    "Consider the function definition below:\n",
    "\n",
    "__Function__: power \\\n",
    "__Inputs__: base, an integer, _exponent_, an integer \\\n",
    "__Preconditions__: base >= 0, exponent >= 0 \\\n",
    "__Output__: result, an integer \\\n",
    "__Postconditions__: result = base<sup>exponent</sup> (base to the power of exponent)\n",
    "\n",
    "It should be noted that 0<sup>0</sup> = 1. You do not need to understand why, but if you're curious it is introduced in [this wikipedia article](https://en.wikipedia.org/wiki/Zero_to_the_power_of_zero)\n",
    "\n",
    "Implement `power` as an iterative, __non-recursive__, function.\n",
    "\n",
    "You can use the tests below to help check if your code is working.\n",
    "\n",
    "Note that failing the tests is a clear indication your code is faulty, but passing the tests is NOT a guarantee it is correct. Your tutor may run additional tests. M269 introduces test tables and the `test` code from section 4.7.6 onwards.\n",
    "\n",
    "- __PASS__ inputs and return types are mostly correct with no more than one omission or error. Student tests are passed with no changes by tutor. \n",
    "- __MERIT__ At least three tutor tests passed. No disallowed code is identified.\n",
    "- __DISTINCTION__ All tutor tests passed. No relevant ruff errors.\n"
   ]
  },
  {
   "cell_type": "code",
   "execution_count": null,
   "metadata": {
    "CELLTYPE": "ANSWER",
    "QUESTION": "Q2a",
    "editable": true,
    "slideshow": {
     "slide_type": ""
    },
    "tags": []
   },
   "outputs": [],
   "source": [
    "# Enter your code here\n",
    "\n",
    "test_table = [\n",
    "    ['Square', 2, 2, 4],\n",
    "    ['Cube', 2, 3, 8],\n",
    "]\n",
    "test(power, test_table)"
   ]
  },
  {
   "attachments": {},
   "cell_type": "markdown",
   "metadata": {
    "CELLTYPE": "QUESTION",
    "editable": true,
    "slideshow": {
     "slide_type": ""
    },
    "tags": []
   },
   "source": [
    "#### Q2(b) (6 marks)\n",
    "\n",
    "This code implements a recursive version of the power function.\n",
    "\n",
    "```python\n",
    "def power_recursive(b, e): \n",
    "    if e == 0:\n",
    "        return 1\n",
    "    else:\n",
    "        return b * power_recursive(b, e - 1)\n",
    "```\n",
    "\n",
    "This code could have been written by a student. Take on the role of an M269 tutor and suggest some feedback you could offer on their coding style. You should make at least three points. Remember; feedback is meant to be a useful learning point, not just pointing out what has been done poorly. You might like to comment on how proposed changes could improve maintainability of the code.\n",
    "\n",
    "- __PASS__ At least 2 sensible issues identified.\n",
    "- __MERIT__ At least 3 sensible issues identified with __at least one__  useful learning points rather than simply identifying a problem.\n",
    "- __DISTINCTION__ At least 3 sensible issues identified __and__ responded to as useful learning points rather than simply identification of problems.\n",
    "\n",
    "Note that non-stylistic suggestions will not count as \"issues identified\".\n"
   ]
  },
  {
   "cell_type": "markdown",
   "metadata": {
    "CELLTYPE": "ANSWER",
    "QUESTION": "Q2b",
    "editable": true,
    "slideshow": {
     "slide_type": ""
    },
    "tags": []
   },
   "source": [
    "_Write your answer here_"
   ]
  },
  {
   "attachments": {},
   "cell_type": "markdown",
   "metadata": {
    "CELLTYPE": "QUESTION",
    "editable": true,
    "slideshow": {
     "slide_type": ""
    },
    "tags": []
   },
   "source": [
    "#### Q2(c) (6 marks)\n",
    "\n",
    "Tuples which are _comparably equal_ contain the same values but not necessarily in the correct order. Hence (1,2,3) is comparably equal to (3,2,1) and (2,1,3).\n",
    "\n",
    "Consider the following function definition:\n",
    "\n",
    "__Function__: find first occurrence \\\n",
    "__Inputs__: _items_, a tuple, _items list_, a list of tuples \\\n",
    "__Preconditions__: all tuples are the same length \\\n",
    "__Output__: _index_, an integer \\\n",
    "__Postconditions__: _index_ is the smallest index of a tuple in _items list_ which is comparably equal to _items_; if no match is found, _index_ is -1\n",
    "\n",
    "The code could be implemented like this:\n",
    "\n",
    "```python\n",
    "def find_first_occurrence(items: tuple, items_list: list) -> int:\n",
    "    \"\"\"Find the first occurrence of items in list_items.\n",
    "\n",
    "    Note that this is ignoring order of elements.\n",
    "    \"\"\"\n",
    "    sorted_items = sorted(items)\n",
    "    for item_index in range(len(items_list)):\n",
    "        if sorted(items_list[item_index]) == sorted_items:\n",
    "            return item_index\n",
    "    return -1\n",
    "```\n",
    "\n",
    "State the worst-case Big-Oh complexity of this implementation. Justify your statement. You can assume that sorted() has complexity $O$($n$ $log$ $n$) where n is the length of the list being sorted. \n",
    "\n",
    "- __PASS__ Identification of complexity with no more than minor issues. May not be in mathematical (Big-Oh/Theta) notation.\n",
    "- __MERIT__ Correct identification in mathematical notation with no more than minor omissions __or__ reasonable justification of __pass__-level complexity.\n",
    "- __DISTINCTION__ Correct identification in mathematical notation  __and__ reasonable justifiction of complexity."
   ]
  },
  {
   "cell_type": "markdown",
   "metadata": {
    "CELLTYPE": "ANSWER",
    "QUESTION": "Q2c",
    "editable": true,
    "slideshow": {
     "slide_type": ""
    },
    "tags": []
   },
   "source": [
    "_Write your answer here_"
   ]
  },
  {
   "cell_type": "markdown",
   "metadata": {
    "CELLTYPE": "QUESTION",
    "editable": true,
    "slideshow": {
     "slide_type": ""
    },
    "tags": []
   },
   "source": [
    "### Question 3 (13 marks)\n",
    "\n",
    "You should be able to answer this question after you have studied up to Chapter 14. \n",
    "\n",
    "This question assesses the learning outcomes:\n",
    "\n",
    "- Understand the common general-purpose data structures, algorithmic techniques and complexity classes.\n",
    "- Analyse the complexity of algorithms to support software design choices."
   ]
  },
  {
   "attachments": {},
   "cell_type": "markdown",
   "metadata": {
    "CELLTYPE": "QUESTION",
    "editable": true,
    "slideshow": {
     "slide_type": ""
    },
    "tags": []
   },
   "source": [
    "#### Q3(a) (6 marks)\n",
    "Some problems, even in real life, can be solved with multiple approaches. In some, a divide-and-conquer approach may be possible, even though other approaches may be more appropriate.\n",
    "\n",
    "- Describe a real-life (non-programming) scenario that may be solvable by __both__ a divide-and-conquer __and__ an alternative approach.\n",
    "- Discuss how __each__ of these approaches could be utilised.\n",
    "- Explain why the __alternative__ approach is __more__ appropriate than the divide-and-conquer approach.\n",
    "\n",
    "If you cannot think of an example, you may use the situation of a logistics company needing to find the fastest route for a fleet of delivery trucks transporting goods across multiple locations while minimising time and fuel costs.\n",
    "\n",
    "__Note__ if you use our example, your marks __for this question__ will be capped at a __Merit__ level.\n",
    "\n",
    "- __PASS__ A scenario is identified and either a divide and conquer or an alternative approach has been well described.\n",
    "- __MERIT__ Both approaches are well described.\n",
    "- __DISTINCTION__ A strong rationale is included for the non-divide and conquer approach being the better solution. The scenarios is substantially different to the example provided.\n",
    "\n"
   ]
  },
  {
   "cell_type": "markdown",
   "metadata": {
    "CELLTYPE": "ANSWER",
    "QUESTION": "Q3a",
    "editable": true,
    "slideshow": {
     "slide_type": ""
    },
    "tags": []
   },
   "source": [
    "_Write your answer here_"
   ]
  },
  {
   "cell_type": "markdown",
   "metadata": {
    "CELLTYPE": "QUESTION",
    "editable": true,
    "slideshow": {
     "slide_type": ""
    },
    "tags": []
   },
   "source": [
    "#### Q3(b) (7 marks)\n",
    "\n",
    "The cell below imports a function `P` from a code file, `ex.py`. The function implements an algorithm. You do not need to read or understand the algorithm or the function code, but you can call the function with a list of distinct integers as its sole parameter. We have called it once in the sample code below. __Note__ that there is no output from this code when run."
   ]
  },
  {
   "cell_type": "code",
   "execution_count": null,
   "metadata": {
    "CELLTYPE": "TMACODE",
    "editable": true,
    "slideshow": {
     "slide_type": ""
    },
    "tags": []
   },
   "outputs": [],
   "source": [
    "from ex import P\n",
    "P([1,2,3])"
   ]
  },
  {
   "cell_type": "markdown",
   "metadata": {
    "CELLTYPE": "QUESTION",
    "editable": true,
    "slideshow": {
     "slide_type": ""
    },
    "tags": []
   },
   "source": [
    "##### Q3(b)(i) (3 marks)\n",
    "\n",
    "Use %timeit to investigate the complexity of this implementation. The marks here are for writing code, your conclusions should be in Q3(b)(ii).\n",
    "\n",
    "- __PASS__ for running the function `P()` with any increasing quantity of integers in the parameter list. `%timeit` is used with no disallowed code. \n",
    "- __MERIT__ choice of range is sufficient and sensible to demonstrate change over time.\n",
    "\n",
    "__Note__ `%timeit` is first instroduced in section 2.8.\n"
   ]
  },
  {
   "cell_type": "code",
   "execution_count": null,
   "metadata": {
    "CELLTYPE": "ANSWER",
    "QUESTION": "Q3bi",
    "editable": true,
    "slideshow": {
     "slide_type": ""
    },
    "tags": []
   },
   "outputs": [],
   "source": [
    "# Write your code here"
   ]
  },
  {
   "cell_type": "markdown",
   "metadata": {
    "CELLTYPE": "QUESTION",
    "editable": true,
    "slideshow": {
     "slide_type": ""
    },
    "tags": []
   },
   "source": [
    "##### Q3(b)(ii) (4 marks)\n",
    "\n",
    "State (by name or in big-Oh format) what you believe the complexity of the function `P` is. Justify your conclusions based on your investigation in Q3(b)(i)\n",
    "\n",
    "- __PASS__ correct identification of complexity based on the results in Q3(b)(i)\n",
    "- __MERIT__ for a reasonable justification based on these results.\n"
   ]
  },
  {
   "cell_type": "markdown",
   "metadata": {
    "CELLTYPE": "ANSWER",
    "QUESTION": "Q3bii",
    "editable": true,
    "slideshow": {
     "slide_type": ""
    },
    "tags": []
   },
   "source": [
    "_Write your answer here_"
   ]
  },
  {
   "cell_type": "markdown",
   "metadata": {
    "CELLTYPE": "QUESTION",
    "editable": true,
    "slideshow": {
     "slide_type": ""
    },
    "tags": []
   },
   "source": [
    "## PART 2 (60 marks)"
   ]
  },
  {
   "cell_type": "markdown",
   "metadata": {
    "CELLTYPE": "QUESTION",
    "editable": true,
    "slideshow": {
     "slide_type": ""
    },
    "tags": []
   },
   "source": [
    "### Question 4 (24 marks)\n",
    "\n",
    "You should be able to answer this question after you have studied up to Chapter 16. \n",
    "\n",
    "This question assesses the learning outcomes:\n",
    "\n",
    "- Understand the common general-purpose data structures, algorithmic techniques and complexity classes.\n",
    "- Develop and apply algorithms and data structures to solve computational problems.\n",
    "- Write readable, tested, documented and efficient Python code."
   ]
  },
  {
   "attachments": {},
   "cell_type": "markdown",
   "metadata": {
    "CELLTYPE": "QUESTION",
    "editable": true,
    "slideshow": {
     "slide_type": ""
    },
    "tags": []
   },
   "source": [
    "#### Q4(a) (5 marks)\n",
    "\n",
    "In section 16.1 you were introduced to binary trees. Not all trees are binary trees. Complete the template below to define a function, `is binary tree`. This function should identify whether a given unrooted tree is a binary tree when a given node is identified as a root. The function should return True or False to indicate the result.\n",
    "\n",
    "__NOTE__ You should __not__ assume the implementation of `Tree` in section 16.1 has been used."
   ]
  },
  {
   "cell_type": "markdown",
   "metadata": {
    "CELLTYPE": "ANSWER",
    "QUESTION": "Q4a",
    "editable": true,
    "slideshow": {
     "slide_type": ""
    },
    "tags": []
   },
   "source": [
    "__Function__ : \\\n",
    "__Inputs__ : \\\n",
    "__Preconditions__ : \\\n",
    "__Output__ : \\\n",
    "__Postconditions__ : "
   ]
  },
  {
   "cell_type": "markdown",
   "metadata": {
    "CELLTYPE": "QUESTION",
    "editable": true,
    "slideshow": {
     "slide_type": ""
    },
    "tags": []
   },
   "source": [
    "Your tutor has been provided with six points, or things to look for, in your function definition:\n",
    "\n",
    "- __PASS__ Any two correct points.\n",
    "- __MERIT__ Any four correct points.\n",
    "- __DISTINCTION__ All six correct points and nothing additional that would detract from the correctness of your definition."
   ]
  },
  {
   "attachments": {},
   "cell_type": "markdown",
   "metadata": {
    "CELLTYPE": "QUESTION",
    "editable": true,
    "slideshow": {
     "slide_type": ""
    },
    "tags": []
   },
   "source": [
    "#### Q4(b) (19 marks)\n",
    "\n",
    "This question part will utilise binary trees made up of `TreeNode`s, similar to the the `Tree` definition in section 16.1. The code is shown below and reproduced in the code box for this question.\n",
    "\n",
    "```python\n",
    "class TreeNode:\n",
    "    \"\"\"A tree node.\"\"\"\n",
    "\n",
    "    def __init__(self, value: object):\n",
    "        \"\"\"Initialise a tree node.\"\"\"\n",
    "        self.value = value\n",
    "        self.left = None\n",
    "        self.right = None\n",
    "```\n",
    "\n",
    "With the exception of the root, any two (different) nodes in a binary tree have at least one common ancestor. \n",
    "\n",
    "![A tree](tree1.png)\n",
    "\n",
    "In this example, nodes B and C share the common ancestor A. Nodes D and F also share the common ancestor A. Nodes D and E also share the common ancestor A. However, their _nearest_ common ancestor is B as that has the shortest possible path from each node.\n",
    "\n",
    "Below we define a function, `nearest common ancestor`, which would find the nearest common ancestor of two nodes within a tree. It can be assumed that all nodes given will have a common ancestor. It is possible for a node to be it's own ancestor. In the example, the common ancestor of F and C is C.\n",
    "\n",
    "__Function__ : nearest common ancestor\\\n",
    "__Inputs__ : _root_: a TreeNode, _node 1_: a TreeNode, _node 2_: a TreeNode\\\n",
    "__Preconditions__ : _node 1_ and _node 2_ are both distinct nodes within the tree. Neither _node 1_ nor _node 2_ are the root of the search tree\\\n",
    "__Output__ : _ancestor_, a TreeNode\\\n",
    "__Postconditions__ : _ancestor_ is in the paths from the _root_ to both _node 1_ and _node 2_ and has the shortest possible paths to both _node 1_ and _node 2_. Neither _node 1_ nor _node 2_ are _ancestor_.\n",
    "\n",
    "Consider a recursive implementation of this function."
   ]
  },
  {
   "cell_type": "markdown",
   "metadata": {
    "CELLTYPE": "QUESTION",
    "editable": true,
    "slideshow": {
     "slide_type": ""
    },
    "tags": []
   },
   "source": [
    "##### Q4(b)(i) (3 marks)\n",
    "\n",
    "Describe the base case(s) of this algorithm.\n",
    "\n",
    "- __PASS__ any one base case identified.\n",
    "- __MERIT__ any two base cases identified.\n",
    "- __DISTINCTION__ all three base cases identified.\n"
   ]
  },
  {
   "cell_type": "markdown",
   "metadata": {
    "CELLTYPE": "ANSWER",
    "QUESTION": "Q4bi",
    "editable": true,
    "slideshow": {
     "slide_type": ""
    },
    "tags": []
   },
   "source": [
    "_Write your answer here_"
   ]
  },
  {
   "cell_type": "markdown",
   "metadata": {
    "CELLTYPE": "QUESTION",
    "editable": true,
    "slideshow": {
     "slide_type": ""
    },
    "tags": []
   },
   "source": [
    "##### Q4(b)(ii) (2 marks)\n",
    "\n",
    "Describe the recursive calls that must be made for this algorithm.\n",
    "\n",
    "- __PASS__ for a reasonable description of some recursive calls needed.\n",
    "- __MERIT__ for reasonable description of all recursive calls neeeded."
   ]
  },
  {
   "cell_type": "markdown",
   "metadata": {
    "CELLTYPE": "ANSWER",
    "QUESTION": "Q4bii",
    "editable": true,
    "slideshow": {
     "slide_type": ""
    },
    "tags": []
   },
   "source": [
    "_Write your answer here_"
   ]
  },
  {
   "cell_type": "markdown",
   "metadata": {
    "CELLTYPE": "QUESTION",
    "editable": true,
    "slideshow": {
     "slide_type": ""
    },
    "tags": []
   },
   "source": [
    "##### Q4(b)(iii) (14 marks)\n",
    "\n",
    "Implement the function definition described above as a Python function. If you are unable to implement the function recursively, you can still gain some (limited) marks for a non-recursive implementation.\n",
    "\n",
    "We have defined a tree node for you and created a tree you can test your function with. You can use the tests below to help check if your code is working.\\\n",
    "Note that failing the tests is a clear indication your code is faulty, but passing the tests is NOT a guarantee it is correct. Your tutor may run additional tests.\n",
    "\n",
    "- __PASS__ For a reasonable attempt at a function header __and__ a reasonable attempt at defining a solution. The code may not be recursive. Student tests should pass.\n",
    "- __MERIT__ At least __four__ tutor tests should pass. The code may not be recursive. No disallowed code is identified.\n",
    "- __DISTINCTION__ All tutor tests must pass. The code must be recursive. No relevant ruff errors. \n",
    "  "
   ]
  },
  {
   "cell_type": "code",
   "execution_count": null,
   "metadata": {
    "CELLTYPE": "TMACODE",
    "editable": true,
    "slideshow": {
     "slide_type": ""
    },
    "tags": []
   },
   "outputs": [],
   "source": [
    "# Run this code to create class\n",
    "class TreeNode:\n",
    "    \"\"\"A tree node.\"\"\"\n",
    "\n",
    "    def __init__(self, value: object):\n",
    "        \"\"\"Initialise a tree node.\"\"\"\n",
    "        self.value = value\n",
    "        self.left = None\n",
    "        self.right = None"
   ]
  },
  {
   "cell_type": "code",
   "execution_count": null,
   "metadata": {
    "CELLTYPE": "ANSWER",
    "QUESTION": "Q4biii",
    "editable": true,
    "slideshow": {
     "slide_type": ""
    },
    "tags": []
   },
   "outputs": [],
   "source": [
    "# Write your code here\n",
    "\n",
    "# Tests data\n",
    "A = TreeNode('A')\n",
    "B = TreeNode('B')\n",
    "C = TreeNode('C')\n",
    "D = TreeNode('D')\n",
    "E = TreeNode('E')\n",
    "F = TreeNode('F')\n",
    "G = TreeNode('G')\n",
    "A.left = B\n",
    "A.right = C\n",
    "B.left = D\n",
    "B.right = E\n",
    "C.left = F\n",
    "C.right = G\n",
    "\n",
    "# Tests are below\n",
    "test_table = [\n",
    "    ['B, C -> A',  A, B, C, A],\n",
    "    ['D, E -> B',  A, D, E, B],\n",
    "]\n",
    "test(nearest_common_ancestor, test_table)"
   ]
  },
  {
   "cell_type": "markdown",
   "metadata": {
    "CELLTYPE": "QUESTION",
    "editable": true,
    "slideshow": {
     "slide_type": ""
    },
    "tags": []
   },
   "source": [
    "### Question 5 (12 marks)\n",
    "\n",
    "You should be able to answer this question after you have studied up to __Chapter 18__. \n",
    "\n",
    "\n",
    "This question assesses the learning outcomes:\n",
    "\n",
    "- Understand the common general-purpose data structures, algorithmic techniques and complexity classes.\n",
    "- Develop and apply algorithms and data structures to solve computational problems.\n",
    "- Explain how an algorithm or data structure works, in order to communicate with relevant stakeholders.\n",
    "- Write readable, tested, documented and efficient Python code."
   ]
  },
  {
   "cell_type": "markdown",
   "metadata": {
    "CELLTYPE": "QUESTION",
    "editable": true,
    "slideshow": {
     "slide_type": ""
    },
    "tags": []
   },
   "source": [
    "#### Q5(a) (2 marks)\n",
    "The image below shows a graph. State whether or not it is a special graph. If it is, state what type. Justify your claim. \n",
    "\n",
    "Graphs may have other identifications and terminology in alternative texts - you must __only__ use terms from M269 to describe these graphs.\n",
    "\n",
    "- __PASS__ for correct identification of graph.\n",
    "- __MERIT__ for reasonable justification.\n",
    "\n",
    "![image](25J_Q4a.png)"
   ]
  },
  {
   "cell_type": "markdown",
   "metadata": {
    "CELLTYPE": "ANSWER",
    "QUESTION": "Q5a",
    "editable": true,
    "slideshow": {
     "slide_type": ""
    },
    "tags": []
   },
   "source": [
    "_Write your answer here_\n"
   ]
  },
  {
   "cell_type": "markdown",
   "metadata": {
    "CELLTYPE": "QUESTION",
    "editable": true,
    "slideshow": {
     "slide_type": ""
    },
    "tags": []
   },
   "source": [
    "#### Q5(b) (2 marks)\n",
    "The image below shows a graph. State whether or not it is a special graph. If it is, state what type. Justify your claim.\n",
    "\n",
    "Graphs may have other identifications and terminology in alternative texts - you must __only__ use terms from M269 to describe these graphs.\n",
    "\n",
    "- __PASS__ for correct identification of graph.\n",
    "- __MERIT__ for reasonable justification.\n",
    "\n",
    "![image](25J_Q4b.png)"
   ]
  },
  {
   "cell_type": "markdown",
   "metadata": {
    "CELLTYPE": "ANSWER",
    "QUESTION": "Q5b",
    "editable": true,
    "slideshow": {
     "slide_type": ""
    },
    "tags": []
   },
   "source": [
    "_Write your answer here_\n"
   ]
  },
  {
   "cell_type": "markdown",
   "metadata": {
    "CELLTYPE": "QUESTION",
    "editable": true,
    "slideshow": {
     "slide_type": ""
    },
    "tags": []
   },
   "source": [
    "#### Q5(c) (2 marks)\n",
    "The image below shows a graph. State whether or not it is a special graph. If it is, state what type. Justify your claim.\n",
    "\n",
    "Graphs may have other identifications and terminology in alternative texts - you must __only__ use terms from M269 to describe these graphs.\n",
    "\n",
    "- __PASS__ for correct identification of graph.\n",
    "- __MERIT__ for reasonable justification.\n",
    "  \n",
    "![image](25J_Q4c.png)"
   ]
  },
  {
   "cell_type": "markdown",
   "metadata": {
    "CELLTYPE": "ANSWER",
    "QUESTION": "Q5c",
    "editable": true,
    "slideshow": {
     "slide_type": ""
    },
    "tags": []
   },
   "source": [
    "_Write your answer here_\n"
   ]
  },
  {
   "cell_type": "markdown",
   "metadata": {
    "CELLTYPE": "QUESTION",
    "editable": true,
    "slideshow": {
     "slide_type": ""
    },
    "tags": []
   },
   "source": [
    "#### Q5(d) (2 marks)\n",
    "The image below shows a graph. State whether or not it is a special graph. If it is, state what type. Justify your claim.\n",
    "\n",
    "Graphs may have other identifications and terminology in alternative texts - you must __only__ use terms from M269 to describe these graphs.\n",
    "\n",
    "- __PASS__ for correct identification of graph.\n",
    "- __MERIT__ for reasonable justification.\n",
    "\n",
    "![image](25J_Q4d.png)"
   ]
  },
  {
   "cell_type": "markdown",
   "metadata": {
    "CELLTYPE": "ANSWER",
    "QUESTION": "Q5d",
    "editable": true,
    "slideshow": {
     "slide_type": ""
    },
    "tags": []
   },
   "source": [
    "_Write your answer here_\n"
   ]
  },
  {
   "cell_type": "markdown",
   "metadata": {
    "CELLTYPE": "QUESTION",
    "editable": true,
    "slideshow": {
     "slide_type": ""
    },
    "tags": []
   },
   "source": [
    "#### Q5(e) (2 marks)\n",
    "The image below shows a graph. State whether or not it is a special graph. If it is, state what type. Justify your claim.\n",
    "\n",
    "Graphs may have other identifications and terminology in alternative texts - you must __only__ use terms from M269 to describe these graphs.\n",
    "\n",
    "- __PASS__ for correct identification of graph.\n",
    "- __MERIT__ for reasonable justification.\n",
    "  \n",
    "![image](25J_Q4e.png)"
   ]
  },
  {
   "cell_type": "markdown",
   "metadata": {
    "CELLTYPE": "ANSWER",
    "QUESTION": "Q5e",
    "editable": true,
    "slideshow": {
     "slide_type": ""
    },
    "tags": []
   },
   "source": [
    "_Write your answer here_\n"
   ]
  },
  {
   "cell_type": "markdown",
   "metadata": {
    "CELLTYPE": "QUESTION",
    "editable": true,
    "slideshow": {
     "slide_type": ""
    },
    "tags": []
   },
   "source": [
    "#### Q5(f) (2 marks)\n",
    "The image below shows a graph. State whether or not it is a special graph. If it is, state what type. Justify your claim.\n",
    "\n",
    "Graphs may have other identifications and terminology in alternative texts - you must __only__ use terms from M269 to describe these graphs.\n",
    "\n",
    "- __PASS__ for correct identification of graph.\n",
    "- __MERIT__ for reasonable justification.\n",
    "  \n",
    "![image](25J_Q4f.png)"
   ]
  },
  {
   "cell_type": "markdown",
   "metadata": {
    "CELLTYPE": "ANSWER",
    "QUESTION": "Q5f",
    "editable": true,
    "slideshow": {
     "slide_type": ""
    },
    "tags": []
   },
   "source": [
    "_Write your answer here_\n"
   ]
  },
  {
   "attachments": {},
   "cell_type": "markdown",
   "metadata": {
    "CELLTYPE": "QUESTION",
    "editable": true,
    "jupyter": {
     "source_hidden": true
    },
    "slideshow": {
     "slide_type": ""
    },
    "tags": []
   },
   "source": [
    "### Question 6 (24 marks)\n",
    "\n",
    "You should be able to answer this question after you have studied up to chapter 18. \n",
    "\n",
    "This question assesses the learning outcomes:\n",
    "\n",
    "- Understand the common general-purpose data structures, algorithmic techniques and complexity classes.\n",
    "- Develop and apply algorithms and data structures to solve computational problems.\n",
    "- Write readable, tested, documented and efficient Python code.\n",
    "\n",
    "Pirates like treasure. A pirate, known as \"Black Ash Vane\", has a map with a lot of treasure troves listed. A treasure trove is a place where treasure is hidden and consists of a name, a total weight of the treasure, the total value of the treasure, and the number of chests the treasure is in. This is important information because a pirate ship can only carry a certain weight of treasure before the ship will become too heavy. You can assume all pirates that have hidden treasure used the same size treasure chests, that a particular trove is a single kind of treasure and hence each treasure chest in the trove will have the same weight and value as every other chest in the same trove. \n",
    "\n",
    "When Black Ash Vane goes treasure hunting, they want to maximise the value of the treasure they put in the hold – more treasure means more rum at the next stop. However, they only ever take whole chests, they never take half a chest or move treasure in and out of different chests. "
   ]
  },
  {
   "cell_type": "markdown",
   "metadata": {
    "CELLTYPE": "QUESTION",
    "editable": true,
    "jupyter": {
     "source_hidden": true
    },
    "slideshow": {
     "slide_type": ""
    },
    "tags": []
   },
   "source": [
    "#### Q6(a) (16 marks)\n",
    "\n",
    "Complete the python code below to implement a __greedy__ algorithm to maximise the value of the treasure the pirate can get from a single voyage around a given map. The pirate can visit as many of the treasure troves as needed in one voyage, but can visit each one only once.\n",
    "\n",
    "You can use the test below to help check if your code is working.\\\n",
    "Note that failing the test is a clear indication your code is faulty, but passing the test is NOT a guarantee it is correct. Your tutor may run additional tests.\n",
    "\n",
    "We have created two classes for you:\n",
    "- A `Trove` contains details about a particular treasure trove. The constructor accepts the trove name (a string), the trove weight (integer), trove value (integer) and the number of chests in the trove (integer).\n",
    "- A `Plan` contains the details of a plan for the pirate to follow. The plan's `troves` is a list of the trove _names_, in order, that the pirate should follow. The plan `total_value` is the value the pirate can expect to have in their hold at the end of the voyage. Note that the `total_value` is a `float`, a data type you have not used since the summary in Chapter 2. It is simply a number with a decimal point - you can use it in the same way as you do integers stored as `int` but if you want to know more you can always read the [documentation](https://docs.python.org/3/library/functions.html#float).\n",
    "\n",
    "We have also created a treasure map for you.\n",
    "\n",
    "- __PASS__ for a reaonable attempt to implement an algorithm to solve the problem - it should run and pass student test.\n",
    "- __MERIT__ for passing at least three tutor tests tests. The algorithm __must__ be __greedy__. Not disallowed code is identified.\n",
    "- __DISTINCTION__ for passing all tests. No relevant ruff errors.\n"
   ]
  },
  {
   "cell_type": "code",
   "execution_count": null,
   "metadata": {
    "CELLTYPE": "TMACODE",
    "editable": true,
    "slideshow": {
     "slide_type": ""
    },
    "tags": []
   },
   "outputs": [],
   "source": [
    "# Run this cell to create classes\n",
    "class Trove:\n",
    "    \"\"\"A treasure trove.\"\"\"\n",
    "\n",
    "    def __init__(self, trove_name: str, weight: int, value: int, number_of_chests: int):\n",
    "        \"\"\"Create the treasure trove.\"\"\"\n",
    "        self.trove_name = trove_name\n",
    "        self.weight = weight\n",
    "        self.value = value\n",
    "        self.number_of_chests = number_of_chests\n",
    "        self.chest_weight = weight / number_of_chests\n",
    "        self.chest_value = value / number_of_chests\n",
    "\n",
    "class Plan:\n",
    "    \"\"\"A plan for getting the most treasure.\n",
    "\n",
    "    - troves should be a list of the names of the troves the pirate will visit.\n",
    "    - total_value should be the total value taken from all troves.\n",
    "    - Note: a float is a number with a decimal point. You will not\n",
    "      need to format this number in any way and it can be used just\n",
    "      like an int. We round it down.\n",
    "    - Note: we have added __str__ and __eq__ methods here which you do not\n",
    "      need to understand.\n",
    "    \"\"\"\n",
    "\n",
    "    def __init__(self, troves: list, total_value: float):\n",
    "        \"\"\"Create a plan for the pirate to follow.\"\"\"\n",
    "        self.troves = troves\n",
    "        self.total_value = round(total_value)\n",
    "\n",
    "    def __str__(self):\n",
    "        \"\"\"Return a human readable output.\"\"\"\n",
    "        return \"Troves: \"+\", \".join(self.troves)+\" Value:\"+str(self.total_value)\n",
    "\n",
    "    def __eq__(self, other):\n",
    "        \"\"\"Allow equality comparison.\"\"\"\n",
    "        return self.__dict__ == other.__dict__"
   ]
  },
  {
   "cell_type": "code",
   "execution_count": null,
   "metadata": {
    "CELLTYPE": "ANSWER",
    "QUESTION": "Q6a",
    "editable": true,
    "slideshow": {
     "slide_type": ""
    },
    "tags": []
   },
   "outputs": [],
   "source": [
    "def greedy_trove_selection(trove_list: list, max_weight: int) -> Plan:\n",
    "    # write your code here\n",
    "\n",
    "\n",
    "# Tests are below\n",
    "treasure_map = [\n",
    "    Trove(\"Black Powder Bay\", 61, 1832, 7),\n",
    "    Trove(\"Rum Runner's Cove\", 77, 1851, 10),\n",
    "    Trove(\"Dead Man's Lagoon\", 23, 2560, 2),\n",
    "    Trove(\"Cutlass Reef\",96, 607, 8),\n",
    "    Trove(\"the Siren's Snare\", 46, 793, 5),\n",
    "    Trove(\"Gold Tooth Isle\", 89, 2577, 2)\n",
    "]\n",
    "\n",
    "expected = Plan([\"Dead Man's Lagoon\",\"Black Powder Bay\",\"Rum Runner's Cove\"],4577)\n",
    "test_table = [\n",
    "    ['Weight: 95',  treasure_map, 95, expected],\n",
    "]\n",
    "test(greedy_trove_selection, test_table)"
   ]
  },
  {
   "attachments": {},
   "cell_type": "markdown",
   "metadata": {
    "CELLTYPE": "QUESTION",
    "editable": true,
    "slideshow": {
     "slide_type": ""
    },
    "tags": []
   },
   "source": [
    "#### Q6(b) (4 marks)\n",
    "\n",
    "Write 2 further tests for your code. Your test descriptors should make it clear what the tests do and why you chose them. They should test different cases than the ones we gave you. \n",
    "\n",
    "You should write them in the same format as the test we provided for you, but you will __not__ be deducted marks if they fail to return the correct solution with your code. \n",
    "\n",
    "- __PASS__ for at least one reasonable test.\n",
    "- __MERIT__ for two reasonable tests, or one reasonable test with a justifiable descriptor.\n",
    "- __DISTINCTION__ two reasonable tests with two justifiable descriptors."
   ]
  },
  {
   "cell_type": "code",
   "execution_count": null,
   "metadata": {
    "CELLTYPE": "ANSWER",
    "QUESTION": "Q6b",
    "editable": true,
    "slideshow": {
     "slide_type": ""
    },
    "tags": []
   },
   "outputs": [],
   "source": [
    "# Write your tests here\n"
   ]
  },
  {
   "attachments": {},
   "cell_type": "markdown",
   "metadata": {
    "CELLTYPE": "QUESTION",
    "editable": true,
    "slideshow": {
     "slide_type": ""
    },
    "tags": []
   },
   "source": [
    "#### Q6(c) (4 marks)\n",
    "\n",
    "Identify and explain what makes your code an implementation of a greedy algorithm.\n",
    "\n",
    "- __PASS__ for a reasonable description.\n",
    "- __MERIT__ for a strong description."
   ]
  },
  {
   "cell_type": "markdown",
   "metadata": {
    "CELLTYPE": "ANSWER",
    "QUESTION": "Q6c",
    "editable": true,
    "slideshow": {
     "slide_type": ""
    },
    "tags": []
   },
   "source": [
    "_Write your answer here_"
   ]
  }
 ],
 "metadata": {
  "TMANUMBER": 2,
  "kernelspec": {
   "display_name": "Python 3 (ipykernel)",
   "language": "python",
   "name": "python3"
  },
  "language_info": {
   "codemirror_mode": {
    "name": "ipython",
    "version": 3
   },
   "file_extension": ".py",
   "mimetype": "text/x-python",
   "name": "python",
   "nbconvert_exporter": "python",
   "pygments_lexer": "ipython3",
   "version": "3.13.3"
  }
 },
 "nbformat": 4,
 "nbformat_minor": 4
}
